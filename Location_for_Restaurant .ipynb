{
 "cells": [
  {
   "cell_type": "markdown",
   "metadata": {},
   "source": [
    "# The Battle of Neighborhoods"
   ]
  },
  {
   "cell_type": "markdown",
   "metadata": {},
   "source": [
    "### The best location to open a new chinese restaurant in Toronto "
   ]
  },
  {
   "cell_type": "markdown",
   "metadata": {},
   "source": [
    "## Introduction\n"
   ]
  },
  {
   "cell_type": "markdown",
   "metadata": {},
   "source": [
    "Location for the restaurant is extremely important for a restaurant's success. If investors want to open a chinese restaurant, they need to consider whether that neiborhood has enough asian population. If they want to make good profit, they also need to consider the household income in that area. Else, other factors might also affect the choice of location. For example, chinese restaurant density, crime rate, parking lot density, etc. "
   ]
  },
  {
   "cell_type": "markdown",
   "metadata": {},
   "source": [
    "## Data"
   ]
  },
  {
   "cell_type": "markdown",
   "metadata": {},
   "source": [
    "To answer this quesiton, following datas will be used:\n",
    "     - Population and Ethnic of each neighborhood (Toronto Census: https://open.toronto.ca/)\n",
    "     - Household income of each neighborhood (Toronto Census: https://open.toronto.ca/)\n",
    "     - Number of Chinese restaurant (Foursquare API)\n",
    "     - Crime Rate (Toronto Census: https://open.toronto.ca/)\n",
    " "
   ]
  },
  {
   "cell_type": "code",
   "execution_count": null,
   "metadata": {},
   "outputs": [],
   "source": []
  }
 ],
 "metadata": {
  "kernelspec": {
   "display_name": "Python 3",
   "language": "python",
   "name": "python3"
  },
  "language_info": {
   "codemirror_mode": {
    "name": "ipython",
    "version": 3
   },
   "file_extension": ".py",
   "mimetype": "text/x-python",
   "name": "python",
   "nbconvert_exporter": "python",
   "pygments_lexer": "ipython3",
   "version": "3.7.1"
  }
 },
 "nbformat": 4,
 "nbformat_minor": 2
}
