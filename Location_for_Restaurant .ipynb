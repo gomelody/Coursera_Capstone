{
 "cells": [
  {
   "cell_type": "markdown",
   "metadata": {},
   "source": [
    "# The Battle of Neighborhoods"
   ]
  },
  {
   "cell_type": "markdown",
   "metadata": {},
   "source": [
    "### The best location to open a new chinese restaurant in Toronto "
   ]
  },
  {
   "cell_type": "markdown",
   "metadata": {},
   "source": [
    "## Introduction\n"
   ]
  },
  {
   "cell_type": "markdown",
   "metadata": {},
   "source": [
    "Location for the restaurant is extremely important for a restaurant's success. The client want to open a chinese restaurant, and they are looking for the best location to open it. To find this answer, we need to first consider whether that neiborhood has enough asian population. To make good profit, we also need to consider the household income in that area, which cannot be too low. Else, other factors might also affect the choice of location. For example, not enough chinese restaurant density, low crime rate, enough parking lot density, etc. "
   ]
  },
  {
   "cell_type": "markdown",
   "metadata": {},
   "source": [
    "## Data"
   ]
  },
  {
   "cell_type": "markdown",
   "metadata": {},
   "source": [
    "To answer this quesiton, following datas will be used:\n",
    "     - Population and Ethnic of each neighborhood (Toronto Census: https://open.toronto.ca/)\n",
    "     - Household income of each neighborhood (Toronto Census: https://open.toronto.ca/)\n",
    "     - Number of Chinese restaurant and average cost per person(Foursquare API)\n",
    "     - Crime Rate (Toronto Census: https://open.toronto.ca/)\n",
    " "
   ]
  },
  {
   "cell_type": "code",
   "execution_count": null,
   "metadata": {},
   "outputs": [],
   "source": []
  }
 ],
 "metadata": {
  "kernelspec": {
   "display_name": "Python 3",
   "language": "python",
   "name": "python3"
  },
  "language_info": {
   "codemirror_mode": {
    "name": "ipython",
    "version": 3
   },
   "file_extension": ".py",
   "mimetype": "text/x-python",
   "name": "python",
   "nbconvert_exporter": "python",
   "pygments_lexer": "ipython3",
   "version": "3.7.1"
  }
 },
 "nbformat": 4,
 "nbformat_minor": 2
}
